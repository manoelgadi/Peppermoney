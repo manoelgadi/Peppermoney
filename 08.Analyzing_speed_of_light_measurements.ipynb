{
 "cells": [
  {
   "cell_type": "markdown",
   "metadata": {
    "id": "4wy-IjpVKYwW"
   },
   "source": [
    "# Analyzing speed of light measurements - Michelson's Speed of Light Experiments\n",
    "\n",
    "Based on the orginal paper: https://www.gutenberg.org/files/11753/11753-h/11753-h.htm from Albert A. Michelson, Master U.S. Navy. 1880\n",
    "and on https://risk-engineering.org/notebook/data-analysis-speed-light.html\n",
    "\n",
    "First Person to Measure Light ...\n",
    "\n",
    "Albert A. Michelson, the scientist who famously conducted over 100 meticulous measurements of the speed of light, he was an American physicist known for his precision in experimental optics.\n",
    "\n",
    "\n",
    "Michelson spent decades refining his measurements using rotating mirrors and improved setups:\n",
    "\n",
    "1. Early Experiments (1878-1880s):\n",
    "\n",
    "His first notable measurement (1878) used a rotating mirror apparatus (improving on Léon Foucault's design).\n",
    "\n",
    "Result: 299,944 ± 51 km/s = [299,893;299,995], very close to today's accepted value which is 299,792 km/s. However, the real speed of light is not within 299,944 ± 51 km/s! is Michelson's Speed of Light Experiments? \n",
    "\n",
    "The speed of light in a vacuum is now defined as exactly 299,792,458 meters per second (m/s).\n"
   ]
  },
  {
   "cell_type": "code",
   "execution_count": 1,
   "metadata": {
    "colab": {
     "base_uri": "https://localhost:8080/",
     "height": 632
    },
    "id": "U5d4YWtlIWUQ",
    "outputId": "264d5c17-6931-4c85-f294-e2d9ff5539c6"
   },
   "outputs": [
    {
     "data": {
      "text/html": [
       "<div>\n",
       "<style scoped>\n",
       "    .dataframe tbody tr th:only-of-type {\n",
       "        vertical-align: middle;\n",
       "    }\n",
       "\n",
       "    .dataframe tbody tr th {\n",
       "        vertical-align: top;\n",
       "    }\n",
       "\n",
       "    .dataframe thead th {\n",
       "        text-align: right;\n",
       "    }\n",
       "</style>\n",
       "<table border=\"1\" class=\"dataframe\">\n",
       "  <thead>\n",
       "    <tr style=\"text-align: right;\">\n",
       "      <th></th>\n",
       "      <th>Date.</th>\n",
       "      <th>Distinctness of image.</th>\n",
       "      <th>Temperature, Fahr.</th>\n",
       "      <th>Position of deflected image.</th>\n",
       "      <th>Position of slit.</th>\n",
       "      <th>Displacement of image in divisions.</th>\n",
       "      <th>Difference between greatest and least values.</th>\n",
       "      <th>B.</th>\n",
       "      <th>Cor.</th>\n",
       "      <th>Number of revolutions per second.</th>\n",
       "      <th>Radius of measurement, in feet.</th>\n",
       "      <th>Value of one turn of the screw.</th>\n",
       "      <th>Velocity of light in air, in kilometers.</th>\n",
       "      <th>Remarks.</th>\n",
       "    </tr>\n",
       "  </thead>\n",
       "  <tbody>\n",
       "    <tr>\n",
       "      <th>0</th>\n",
       "      <td>June 5</td>\n",
       "      <td>3</td>\n",
       "      <td>76</td>\n",
       "      <td>114.85</td>\n",
       "      <td>0.300</td>\n",
       "      <td>114.55</td>\n",
       "      <td>0.17</td>\n",
       "      <td>1.423</td>\n",
       "      <td>-0.132</td>\n",
       "      <td>257.36</td>\n",
       "      <td>28.672</td>\n",
       "      <td>0.99614</td>\n",
       "      <td>299850</td>\n",
       "      <td>Electric light.</td>\n",
       "    </tr>\n",
       "    <tr>\n",
       "      <th>1</th>\n",
       "      <td>June 7</td>\n",
       "      <td>2</td>\n",
       "      <td>72</td>\n",
       "      <td>114.64</td>\n",
       "      <td>0.074</td>\n",
       "      <td>114.56</td>\n",
       "      <td>0.10</td>\n",
       "      <td>1.533</td>\n",
       "      <td>-0.084</td>\n",
       "      <td>257.52</td>\n",
       "      <td>28.655</td>\n",
       "      <td>0.99614</td>\n",
       "      <td>299740</td>\n",
       "      <td>P.M. Frame inclined at various angles</td>\n",
       "    </tr>\n",
       "    <tr>\n",
       "      <th>2</th>\n",
       "      <td>June 7</td>\n",
       "      <td>2</td>\n",
       "      <td>72</td>\n",
       "      <td>114.58</td>\n",
       "      <td>0.074</td>\n",
       "      <td>114.50</td>\n",
       "      <td>0.08</td>\n",
       "      <td>1.533</td>\n",
       "      <td>-0.084</td>\n",
       "      <td>257.52</td>\n",
       "      <td>28.647</td>\n",
       "      <td>0.99614</td>\n",
       "      <td>299900</td>\n",
       "      <td>P.M. Frame inclined at various angles</td>\n",
       "    </tr>\n",
       "    <tr>\n",
       "      <th>3</th>\n",
       "      <td>June 7</td>\n",
       "      <td>2</td>\n",
       "      <td>72</td>\n",
       "      <td>85.91</td>\n",
       "      <td>0.074</td>\n",
       "      <td>85.84</td>\n",
       "      <td>0.12</td>\n",
       "      <td>1.533</td>\n",
       "      <td>-0.084</td>\n",
       "      <td>193.14</td>\n",
       "      <td>28.647</td>\n",
       "      <td>0.99598</td>\n",
       "      <td>300070</td>\n",
       "      <td>P.M. Frame inclined at various angles</td>\n",
       "    </tr>\n",
       "    <tr>\n",
       "      <th>4</th>\n",
       "      <td>June 7</td>\n",
       "      <td>2</td>\n",
       "      <td>72</td>\n",
       "      <td>85.97</td>\n",
       "      <td>0.074</td>\n",
       "      <td>85.89</td>\n",
       "      <td>O.07</td>\n",
       "      <td>1.533</td>\n",
       "      <td>-0.084</td>\n",
       "      <td>193.14</td>\n",
       "      <td>28.650</td>\n",
       "      <td>0.99598</td>\n",
       "      <td>299930</td>\n",
       "      <td>P.M. Frame inclined at various angles</td>\n",
       "    </tr>\n",
       "    <tr>\n",
       "      <th>...</th>\n",
       "      <td>...</td>\n",
       "      <td>...</td>\n",
       "      <td>...</td>\n",
       "      <td>...</td>\n",
       "      <td>...</td>\n",
       "      <td>...</td>\n",
       "      <td>...</td>\n",
       "      <td>...</td>\n",
       "      <td>...</td>\n",
       "      <td>...</td>\n",
       "      <td>...</td>\n",
       "      <td>...</td>\n",
       "      <td>...</td>\n",
       "      <td>...</td>\n",
       "    </tr>\n",
       "    <tr>\n",
       "      <th>95</th>\n",
       "      <td>July 1</td>\n",
       "      <td>2</td>\n",
       "      <td>86</td>\n",
       "      <td>2.14</td>\n",
       "      <td>135.145</td>\n",
       "      <td>133.00</td>\n",
       "      <td>0.08</td>\n",
       "      <td>1.467</td>\n",
       "      <td>-0.252</td>\n",
       "      <td>257.28</td>\n",
       "      <td>33.311</td>\n",
       "      <td>0.99627</td>\n",
       "      <td>299940</td>\n",
       "      <td>P.M. Mirror inverted.</td>\n",
       "    </tr>\n",
       "    <tr>\n",
       "      <th>96</th>\n",
       "      <td>July 2</td>\n",
       "      <td>3</td>\n",
       "      <td>86</td>\n",
       "      <td>99.85</td>\n",
       "      <td>0.400</td>\n",
       "      <td>99.45</td>\n",
       "      <td>0.05</td>\n",
       "      <td>1.450</td>\n",
       "      <td>-0.252</td>\n",
       "      <td>192.95</td>\n",
       "      <td>33.205</td>\n",
       "      <td>0.99606</td>\n",
       "      <td>299950</td>\n",
       "      <td>P.M. Mirror erect.</td>\n",
       "    </tr>\n",
       "    <tr>\n",
       "      <th>97</th>\n",
       "      <td>July 2</td>\n",
       "      <td>3</td>\n",
       "      <td>86</td>\n",
       "      <td>66.74</td>\n",
       "      <td>0.400</td>\n",
       "      <td>66.34</td>\n",
       "      <td>0.03</td>\n",
       "      <td>1.450</td>\n",
       "      <td>-0.252</td>\n",
       "      <td>128.63</td>\n",
       "      <td>33.205</td>\n",
       "      <td>0.99586</td>\n",
       "      <td>299800</td>\n",
       "      <td>P.M. Mirror erect.</td>\n",
       "    </tr>\n",
       "    <tr>\n",
       "      <th>98</th>\n",
       "      <td>July 2</td>\n",
       "      <td>3</td>\n",
       "      <td>86</td>\n",
       "      <td>50.16</td>\n",
       "      <td>0.400</td>\n",
       "      <td>47.96</td>\n",
       "      <td>0.07</td>\n",
       "      <td>1.467</td>\n",
       "      <td>-0.252</td>\n",
       "      <td>96.48</td>\n",
       "      <td>33.205</td>\n",
       "      <td>0.99580</td>\n",
       "      <td>299810</td>\n",
       "      <td>P.M. Mirror erect.</td>\n",
       "    </tr>\n",
       "    <tr>\n",
       "      <th>99</th>\n",
       "      <td>July 2</td>\n",
       "      <td>3</td>\n",
       "      <td>85</td>\n",
       "      <td>33.57</td>\n",
       "      <td>0.400</td>\n",
       "      <td>33.17</td>\n",
       "      <td>0.06</td>\n",
       "      <td>1.450</td>\n",
       "      <td>-0.240</td>\n",
       "      <td>64.32</td>\n",
       "      <td>33.205</td>\n",
       "      <td>0.99574</td>\n",
       "      <td>299870</td>\n",
       "      <td>P.M. Mirror erect.</td>\n",
       "    </tr>\n",
       "  </tbody>\n",
       "</table>\n",
       "<p>100 rows × 14 columns</p>\n",
       "</div>"
      ],
      "text/plain": [
       "     Date.  Distinctness of image.  Temperature, Fahr.  \\\n",
       "0   June 5                       3                  76   \n",
       "1   June 7                       2                  72   \n",
       "2   June 7                       2                  72   \n",
       "3   June 7                       2                  72   \n",
       "4   June 7                       2                  72   \n",
       "..     ...                     ...                 ...   \n",
       "95  July 1                       2                  86   \n",
       "96  July 2                       3                  86   \n",
       "97  July 2                       3                  86   \n",
       "98  July 2                       3                  86   \n",
       "99  July 2                       3                  85   \n",
       "\n",
       "    Position of deflected image.  Position of slit.  \\\n",
       "0                         114.85              0.300   \n",
       "1                         114.64              0.074   \n",
       "2                         114.58              0.074   \n",
       "3                          85.91              0.074   \n",
       "4                          85.97              0.074   \n",
       "..                           ...                ...   \n",
       "95                          2.14            135.145   \n",
       "96                         99.85              0.400   \n",
       "97                         66.74              0.400   \n",
       "98                         50.16              0.400   \n",
       "99                         33.57              0.400   \n",
       "\n",
       "   Displacement of image in divisions.  \\\n",
       "0                               114.55   \n",
       "1                               114.56   \n",
       "2                               114.50   \n",
       "3                                85.84   \n",
       "4                                85.89   \n",
       "..                                 ...   \n",
       "95                              133.00   \n",
       "96                               99.45   \n",
       "97                               66.34   \n",
       "98                               47.96   \n",
       "99                               33.17   \n",
       "\n",
       "   Difference between greatest and least values.     B.   Cor.  \\\n",
       "0                                           0.17  1.423 -0.132   \n",
       "1                                           0.10  1.533 -0.084   \n",
       "2                                           0.08  1.533 -0.084   \n",
       "3                                           0.12  1.533 -0.084   \n",
       "4                                           O.07  1.533 -0.084   \n",
       "..                                           ...    ...    ...   \n",
       "95                                          0.08  1.467 -0.252   \n",
       "96                                          0.05  1.450 -0.252   \n",
       "97                                          0.03  1.450 -0.252   \n",
       "98                                          0.07  1.467 -0.252   \n",
       "99                                          0.06  1.450 -0.240   \n",
       "\n",
       "   Number of revolutions per second.  Radius of measurement, in feet.  \\\n",
       "0                             257.36                           28.672   \n",
       "1                             257.52                           28.655   \n",
       "2                             257.52                           28.647   \n",
       "3                             193.14                           28.647   \n",
       "4                             193.14                           28.650   \n",
       "..                               ...                              ...   \n",
       "95                            257.28                           33.311   \n",
       "96                            192.95                           33.205   \n",
       "97                            128.63                           33.205   \n",
       "98                             96.48                           33.205   \n",
       "99                             64.32                           33.205   \n",
       "\n",
       "    Value of one turn of the screw.  Velocity of light in air, in kilometers.  \\\n",
       "0                           0.99614                                    299850   \n",
       "1                           0.99614                                    299740   \n",
       "2                           0.99614                                    299900   \n",
       "3                           0.99598                                    300070   \n",
       "4                           0.99598                                    299930   \n",
       "..                              ...                                       ...   \n",
       "95                          0.99627                                    299940   \n",
       "96                          0.99606                                    299950   \n",
       "97                          0.99586                                    299800   \n",
       "98                          0.99580                                    299810   \n",
       "99                          0.99574                                    299870   \n",
       "\n",
       "                                 Remarks.  \n",
       "0                         Electric light.  \n",
       "1   P.M. Frame inclined at various angles  \n",
       "2   P.M. Frame inclined at various angles  \n",
       "3   P.M. Frame inclined at various angles  \n",
       "4   P.M. Frame inclined at various angles  \n",
       "..                                    ...  \n",
       "95                  P.M. Mirror inverted.  \n",
       "96                     P.M. Mirror erect.  \n",
       "97                     P.M. Mirror erect.  \n",
       "98                     P.M. Mirror erect.  \n",
       "99                     P.M. Mirror erect.  \n",
       "\n",
       "[100 rows x 14 columns]"
      ]
     },
     "execution_count": 1,
     "metadata": {},
     "output_type": "execute_result"
    }
   ],
   "source": [
    "import pandas as pd\n",
    "data = pd.read_html('https://www.gutenberg.org/files/11753/11753-h/11753-h.htm')\n",
    "df = data[23]\n",
    "df"
   ]
  },
  {
   "cell_type": "code",
   "execution_count": 2,
   "metadata": {
    "colab": {
     "base_uri": "https://localhost:8080/",
     "height": 300
    },
    "id": "-bWPfq-DIY41",
    "outputId": "8e477ad0-8cdc-4a1f-8c1f-4e7fe9e9539e"
   },
   "outputs": [
    {
     "data": {
      "text/html": [
       "<div>\n",
       "<style scoped>\n",
       "    .dataframe tbody tr th:only-of-type {\n",
       "        vertical-align: middle;\n",
       "    }\n",
       "\n",
       "    .dataframe tbody tr th {\n",
       "        vertical-align: top;\n",
       "    }\n",
       "\n",
       "    .dataframe thead th {\n",
       "        text-align: right;\n",
       "    }\n",
       "</style>\n",
       "<table border=\"1\" class=\"dataframe\">\n",
       "  <thead>\n",
       "    <tr style=\"text-align: right;\">\n",
       "      <th></th>\n",
       "      <th>Velocity of light in air, in kilometers.</th>\n",
       "    </tr>\n",
       "  </thead>\n",
       "  <tbody>\n",
       "    <tr>\n",
       "      <th>count</th>\n",
       "      <td>100.000000</td>\n",
       "    </tr>\n",
       "    <tr>\n",
       "      <th>mean</th>\n",
       "      <td>299852.400000</td>\n",
       "    </tr>\n",
       "    <tr>\n",
       "      <th>std</th>\n",
       "      <td>79.010548</td>\n",
       "    </tr>\n",
       "    <tr>\n",
       "      <th>min</th>\n",
       "      <td>299620.000000</td>\n",
       "    </tr>\n",
       "    <tr>\n",
       "      <th>25%</th>\n",
       "      <td>299807.500000</td>\n",
       "    </tr>\n",
       "    <tr>\n",
       "      <th>50%</th>\n",
       "      <td>299850.000000</td>\n",
       "    </tr>\n",
       "    <tr>\n",
       "      <th>75%</th>\n",
       "      <td>299892.500000</td>\n",
       "    </tr>\n",
       "    <tr>\n",
       "      <th>max</th>\n",
       "      <td>300070.000000</td>\n",
       "    </tr>\n",
       "  </tbody>\n",
       "</table>\n",
       "</div>"
      ],
      "text/plain": [
       "       Velocity of light in air, in kilometers.\n",
       "count                                100.000000\n",
       "mean                              299852.400000\n",
       "std                                   79.010548\n",
       "min                               299620.000000\n",
       "25%                               299807.500000\n",
       "50%                               299850.000000\n",
       "75%                               299892.500000\n",
       "max                               300070.000000"
      ]
     },
     "execution_count": 2,
     "metadata": {},
     "output_type": "execute_result"
    }
   ],
   "source": [
    "df[['Velocity of light in air, in kilometers.']].describe()"
   ]
  },
  {
   "cell_type": "code",
   "execution_count": 3,
   "metadata": {
    "colab": {
     "base_uri": "https://localhost:8080/",
     "height": 487
    },
    "id": "EXvCQBgpIlRq",
    "outputId": "1bb67e69-b619-4353-a41e-f84a82c83ec9"
   },
   "outputs": [
    {
     "data": {
      "text/plain": [
       "array([[<Axes: title={'center': 'Velocity of light in air, in kilometers.'}>]],\n",
       "      dtype=object)"
      ]
     },
     "execution_count": 3,
     "metadata": {},
     "output_type": "execute_result"
    },
    {
     "data": {
      "image/png": "[encoded data removed]",
      "text/plain": [
       "<Figure size 640x480 with 1 Axes>"
      ]
     },
     "metadata": {},
     "output_type": "display_data"
    }
   ],
   "source": [
    "df[['Velocity of light in air, in kilometers.']].hist()"
   ]
  },
  {
   "cell_type": "markdown",
   "metadata": {},
   "source": [
    "# Confidence interval using modern statistic - 2 standard deviations"
   ]
  },
  {
   "cell_type": "code",
   "execution_count": 24,
   "metadata": {},
   "outputs": [
    {
     "data": {
      "text/plain": [
       "(Velocity of light in air, in kilometers.    299694.378904\n",
       " dtype: float64,\n",
       " Velocity of light in air, in kilometers.    300010.421096\n",
       " dtype: float64)"
      ]
     },
     "execution_count": 24,
     "metadata": {},
     "output_type": "execute_result"
    }
   ],
   "source": [
    "df[['Velocity of light in air, in kilometers.']].mean()-2*df[['Velocity of light in air, in kilometers.']].std(), df[['Velocity of light in air, in kilometers.']].mean()+2*df[['Velocity of light in air, in kilometers.']].std()"
   ]
  },
  {
   "cell_type": "markdown",
   "metadata": {},
   "source": [
    "# Confidence interval using modern statistic - Quantile 5% and 95%"
   ]
  },
  {
   "cell_type": "code",
   "execution_count": 35,
   "metadata": {
    "colab": {
     "base_uri": "https://localhost:8080/"
    },
    "id": "JqnYGuEKiSXG",
    "outputId": "420354b1-b77d-407d-e7d3-ffe41fd0a44c"
   },
   "outputs": [
    {
     "data": {
      "text/plain": [
       "(Velocity of light in air, in kilometers.    299739.0\n",
       " Name: 0.05, dtype: float64,\n",
       " Velocity of light in air, in kilometers.    299980.0\n",
       " Name: 0.95, dtype: float64)"
      ]
     },
     "execution_count": 35,
     "metadata": {},
     "output_type": "execute_result"
    }
   ],
   "source": [
    "df[['Velocity of light in air, in kilometers.']].quantile(0.05),df[['Velocity of light in air, in kilometers.']].quantile(0.95)"
   ]
  },
  {
   "cell_type": "code",
   "execution_count": 37,
   "metadata": {
    "colab": {
     "base_uri": "https://localhost:8080/",
     "height": 633
    },
    "id": "xSAesSlalKfE",
    "outputId": "81cb780e-ab83-46e6-ca4d-3e9fbc57aa80"
   },
   "outputs": [
    {
     "name": "stdout",
     "output_type": "stream",
     "text": [
      "5th percentile from data: 299739.00\n",
      "95th percentile from data: 299980.00\n",
      "5th percentile from fitted normal: 299723.09\n",
      "95th percentile from fitted normal: 299981.71\n"
     ]
    },
    {
     "data": {
      "image/png": "[encoded data removed]",
      "text/plain": [
       "<Figure size 1000x600 with 1 Axes>"
      ]
     },
     "metadata": {},
     "output_type": "display_data"
    }
   ],
   "source": [
    "import numpy as np\n",
    "import scipy.stats as stats\n",
    "import matplotlib.pyplot as plt\n",
    "# Fit a normal distribution to the data\n",
    "mu, std = stats.norm.fit(df['Velocity of light in air, in kilometers.'])\n",
    "\n",
    "# Calculate the 5th and 95th percentiles from the data\n",
    "fifth_percentile_data = df['Velocity of light in air, in kilometers.'].quantile(0.05)\n",
    "ninetyfifth_percentile_data = df['Velocity of light in air, in kilometers.'].quantile(0.95)\n",
    "\n",
    "# Calculate the 5th and 95th percentiles from the fitted normal distribution\n",
    "fifth_percentile_fit = stats.norm.ppf(0.05, mu, std)\n",
    "ninetyfifth_percentile_fit = stats.norm.ppf(0.95, mu, std)\n",
    "\n",
    "print(f\"5th percentile from data: {fifth_percentile_data:.2f}\")\n",
    "print(f\"95th percentile from data: {ninetyfifth_percentile_data:.2f}\")\n",
    "print(f\"5th percentile from fitted normal: {fifth_percentile_fit:.2f}\")\n",
    "print(f\"95th percentile from fitted normal: {ninetyfifth_percentile_fit:.2f}\")\n",
    "\n",
    "# Plotting\n",
    "plt.figure(figsize=(10, 6))\n",
    "\n",
    "# Histogram\n",
    "plt.hist(df['Velocity of light in air, in kilometers.'], bins=5, density=True, alpha=0.6, color='g', label='Histogram')\n",
    "\n",
    "# Normal distribution curve\n",
    "xmin, xmax = plt.xlim()\n",
    "x = np.linspace(xmin, xmax, 100)\n",
    "p = stats.norm.pdf(x, mu, std)\n",
    "plt.plot(x, p, 'k', linewidth=2, label='Normal Distribution Fit')\n",
    "\n",
    "# Vertical lines for percentiles\n",
    "plt.axvline(fifth_percentile_data, color='r', linestyle='--', label='5th Percentile (Data)')\n",
    "plt.axvline(ninetyfifth_percentile_data, color='b', linestyle='--', label='95th Percentile (Data)')\n",
    "plt.axvline(fifth_percentile_fit, color='r', linestyle=':', label='5th Percentile (Fit)')\n",
    "plt.axvline(ninetyfifth_percentile_fit, color='b', linestyle=':', label='95th Percentile (Fit)')\n",
    "\n",
    "plt.title('Velocity of Light with Normal Fit and Percentiles')\n",
    "plt.xlabel('Velocity of light in air, in kilometers.')\n",
    "plt.ylabel('Density')\n",
    "plt.legend()\n",
    "plt.show()"
   ]
  },
  {
   "cell_type": "code",
   "execution_count": 31,
   "metadata": {
    "colab": {
     "base_uri": "https://localhost:8080/"
    },
    "id": "lZ1PXHwTjaMW",
    "outputId": "ae0b8964-2d89-4c86-e64d-892fae9ec59b"
   },
   "outputs": [
    {
     "name": "stdout",
     "output_type": "stream",
     "text": [
      "Mean: 299852.40\n",
      "Confidence Interval (95.0%): (299836.722593167, 299868.07740683306)\n",
      "Mean: 299852.40\n",
      "Margin of Error: 15.68\n",
      "Confidence Interval (95.0%): 299852.40 ± 15.68\n"
     ]
    }
   ],
   "source": [
    "import pandas as pd\n",
    "import numpy as np\n",
    "import scipy.stats as stats\n",
    "\n",
    "# Calculate the mean and standard error\n",
    "mean = np.mean(df['Velocity of light in air, in kilometers.'])\n",
    "std_err = stats.sem(df['Velocity of light in air, in kilometers.'])\n",
    "\n",
    "# Set the confidence level (e.g., 95%)\n",
    "confidence_level = 0.95\n",
    "\n",
    "# Calculate the margin of error\n",
    "margin_of_error = std_err * stats.t.ppf((1 + confidence_level) / 2, len(df) - 1)\n",
    "\n",
    "# Calculate the confidence interval\n",
    "confidence_interval = (mean - margin_of_error, mean + margin_of_error)\n",
    "\n",
    "print(f\"Mean: {mean:.2f}\")\n",
    "print(f\"Confidence Interval ({confidence_level * 100}%): {confidence_interval}\")\n",
    "\n",
    "\n",
    "print(f\"Mean: {mean:.2f}\")\n",
    "print(f\"Margin of Error: {margin_of_error:.2f}\")\n",
    "print(f\"Confidence Interval ({confidence_level * 100}%): {mean:.2f} ± {margin_of_error:.2f}\")"
   ]
  },
  {
   "cell_type": "markdown",
   "metadata": {
    "id": "GQzmVJLSiVej"
   },
   "source": []
  },
  {
   "cell_type": "code",
   "execution_count": 32,
   "metadata": {
    "id": "Li5jvsLNJk3-"
   },
   "outputs": [],
   "source": [
    "import numpy\n",
    "def bootstrap_confidence_intervals(data, estimator, percentiles, runs=10000):\n",
    "    replicates = numpy.empty(runs)\n",
    "    for i in range(runs):\n",
    "        replicates[i] = estimator(numpy.random.choice(data, len(data), replace=True))\n",
    "    est = numpy.mean(replicates)\n",
    "    ci = numpy.percentile(replicates, percentiles)\n",
    "    return (est, ci)"
   ]
  },
  {
   "cell_type": "code",
   "execution_count": 33,
   "metadata": {
    "colab": {
     "base_uri": "https://localhost:8080/"
    },
    "id": "E6i9C0lQJwTu",
    "outputId": "c4e96d9d-d195-47bc-8391-40b95b09dedc"
   },
   "outputs": [
    {
     "data": {
      "text/plain": [
       "(np.float64(299852.33707), array([299836.9, 299868. ]))"
      ]
     },
     "execution_count": 33,
     "metadata": {},
     "output_type": "execute_result"
    }
   ],
   "source": [
    "est, ci = bootstrap_confidence_intervals(df['Velocity of light in air, in kilometers.'], estimator=numpy.mean, percentiles=[2.5, 97.5])\n",
    "est, ci"
   ]
  },
  {
   "cell_type": "code",
   "execution_count": 34,
   "metadata": {
    "colab": {
     "base_uri": "https://localhost:8080/"
    },
    "id": "wNI--xtBJ2ah",
    "outputId": "c25e14f9-60d2-46cc-af84-2de1f03d73eb"
   },
   "outputs": [
    {
     "data": {
      "text/plain": [
       "(np.float64(15.437069999985397), np.float64(15.66292999999132))"
      ]
     },
     "execution_count": 34,
     "metadata": {},
     "output_type": "execute_result"
    }
   ],
   "source": [
    "est - ci[0], ci[1] - est"
   ]
  },
  {
   "cell_type": "markdown",
   "metadata": {
    "id": "ql4i9Qz5KBrQ"
   },
   "source": [
    "The first return value is the bootstrapped estimate of the mean, and the second return value is the 95% confidence interval. Given that the confidence interval is roughly symmetrical, we could report this measurement as\n",
    "\n",
    "299,853 ± 15 km/s (95% CI) (very close to today's accepted value which is 299,792 km/s).\n",
    "\n",
    "or as\n",
    "\n",
    "299,8523 [299837, 299868] km/s (95% CI).\n",
    "\n",
    "At the time, Michelson made a few corrections to his measurements to account for the influence of temperature, and accounting for a number of sources of uncertainty in his measurement method, reported his estimate of the speed of light in a vacuum as\n",
    "\n",
    "299,944 ± 51 km/s (very close to today's accepted value which is 299,792 km/s).\n",
    "\n",
    "The speed of light in a vacuum is now defined as exactly 299,792,458 meters per second (m/s).\n"
   ]
  },
  {
   "cell_type": "code",
   "execution_count": 34,
   "metadata": {
    "id": "Tir5ylIDJ7it"
   },
   "outputs": [],
   "source": []
  },
  {
   "cell_type": "code",
   "execution_count": 34,
   "metadata": {
    "id": "fxDnaitLKCHv"
   },
   "outputs": [],
   "source": []
  }
 ],
 "metadata": {
  "colab": {
   "provenance": []
  },
  "kernelspec": {
   "display_name": "Python 3 (ipykernel)",
   "language": "python",
   "name": "python3"
  },
  "language_info": {
   "codemirror_mode": {
    "name": "ipython",
    "version": 3
   },
   "file_extension": ".py",
   "mimetype": "text/x-python",
   "name": "python",
   "nbconvert_exporter": "python",
   "pygments_lexer": "ipython3",
   "version": "3.12.7"
  }
 },
 "nbformat": 4,
 "nbformat_minor": 4
}
